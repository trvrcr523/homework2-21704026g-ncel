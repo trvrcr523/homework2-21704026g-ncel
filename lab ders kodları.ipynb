{
 "cells": [
  {
   "cell_type": "code",
   "execution_count": 1,
   "metadata": {},
   "outputs": [
    {
     "name": "stdout",
     "output_type": "stream",
     "text": [
      "[1 2 3]\n"
     ]
    }
   ],
   "source": [
    "import scipy as sc \n",
    "import numpy as np \n",
    "array1 = np.array ([1 ,2 ,3])\n",
    "print(array1)"
   ]
  },
  {
   "cell_type": "code",
   "execution_count": 2,
   "metadata": {},
   "outputs": [
    {
     "name": "stdout",
     "output_type": "stream",
     "text": [
      "[  0.  25.  50.  75. 100.] \n",
      "\n",
      "[ 0.  12.5 25. ] \n",
      "\n"
     ]
    }
   ],
   "source": [
    "array2 = np.linspace ( 0 , 100 , 5)\n",
    "print(array2 , '\\n')\n",
    "array22 = np.linspace (0 , 25 , 3)\n",
    "print(array22 , '\\n')"
   ]
  },
  {
   "cell_type": "code",
   "execution_count": 3,
   "metadata": {},
   "outputs": [
    {
     "name": "stdout",
     "output_type": "stream",
     "text": [
      "[  0   2   4   6   8  10  12  14  16  18  20  22  24  26  28  30  32  34\n",
      "  36  38  40  42  44  46  48  50  52  54  56  58  60  62  64  66  68  70\n",
      "  72  74  76  78  80  82  84  86  88  90  92  94  96  98 100 102 104 106\n",
      " 108 110 112 114 116 118 120 122 124] \n",
      "\n",
      "[0.  0.5 1.  1.5 2.  2.5 3.  3.5 4.  4.5] \n",
      "\n",
      "[  0   2   4   6   8  10  12  14  16  18  20  22  24  26  28  30  32  34\n",
      "  36  38  40  42  44  46  48  50  52  54  56  58  60  62  64  66  68  70\n",
      "  72  74  76  78  80  82  84  86  88  90  92  94  96  98 100 102 104 106\n",
      " 108 110 112 114 116 118 120 122 124] \n",
      "\n"
     ]
    }
   ],
   "source": [
    "array3 = np.arange (0 , 125 , 2)\n",
    "print(array3 , '\\n')\n",
    "array4 = np.arange (0 , 5 , 0.5)\n",
    "print(array4 , '\\n')\n",
    "array44 = np.arange (0 , 125 , 2)\n",
    "print(array44 , '\\n')"
   ]
  },
  {
   "cell_type": "code",
   "execution_count": 5,
   "metadata": {},
   "outputs": [
    {
     "name": "stdout",
     "output_type": "stream",
     "text": [
      "[0. 0. 0. 0. 0.] \n",
      "\n",
      "[1. 1. 1. 1. 1. 1. 1. 1. 1. 1. 1. 1. 1. 1. 1. 1. 1. 1. 1. 1. 1. 1. 1. 1.\n",
      " 1. 1. 1. 1. 1. 1. 1. 1. 1. 1. 1. 1. 1. 1. 1. 1. 1. 1. 1. 1. 1. 1. 1. 1.\n",
      " 1. 1. 1. 1. 1. 1. 1. 1. 1. 1. 1. 1. 1. 1. 1. 1. 1. 1. 1. 1. 1. 1. 1. 1.\n",
      " 1. 1. 1. 1. 1. 1. 1. 1. 1. 1. 1. 1. 1. 1. 1. 1. 1. 1. 1. 1. 1. 1. 1. 1.\n",
      " 1. 1. 1. 1.] \n",
      "\n"
     ]
    }
   ],
   "source": [
    "array5 = np.zeros (5)\n",
    "print(array5 , '\\n')\n",
    "array6 = np.ones (100)\n",
    "print(array6 , '\\n')\n"
   ]
  },
  {
   "cell_type": "code",
   "execution_count": 6,
   "metadata": {},
   "outputs": [
    {
     "name": "stdout",
     "output_type": "stream",
     "text": [
      "[-20.         -17.90909091 -15.81818182 -13.72727273 -11.63636364\n",
      "  -9.54545455  -7.45454545  -5.36363636  -3.27272727  -1.18181818\n",
      "   0.90909091   3.        ] \n",
      "\n",
      "[-18.         -15.90909091 -13.81818182 -11.72727273  -9.63636364\n",
      "  -7.54545455  -5.45454545  -3.36363636  -1.27272727   0.81818182\n",
      "   2.90909091   5.        ] \n",
      "\n",
      "[-21.         -18.90909091 -16.81818182 -14.72727273 -12.63636364\n",
      " -10.54545455  -8.45454545  -6.36363636  -4.27272727  -2.18181818\n",
      "  -0.09090909   2.        ] \n",
      "\n",
      "[-60.         -53.72727273 -47.45454545 -41.18181818 -34.90909091\n",
      " -28.63636364 -22.36363636 -16.09090909  -9.81818182  -3.54545455\n",
      "   2.72727273   9.        ] \n",
      "\n",
      "[-10.          -8.95454545  -7.90909091  -6.86363636  -5.81818182\n",
      "  -4.77272727  -3.72727273  -2.68181818  -1.63636364  -0.59090909\n",
      "   0.45454545   1.5       ] \n",
      "\n",
      "[1.60000000e+05 1.02871285e+05 6.26074842e+04 3.55088861e+04\n",
      " 1.83345028e+04 8.30207124e+03 3.08805246e+03 8.27632061e+02\n",
      " 1.14720033e+02 1.95075473e+00 6.83013455e-01 8.10000000e+01] \n",
      "\n",
      "[-90.         -79.54545455 -69.09090909 -58.63636364 -48.18181818\n",
      " -37.72727273 -27.27272727 -16.81818182  -6.36363636   4.09090909\n",
      "  14.54545455  25.        ] \n",
      "\n",
      "[-0.91294525  0.80783227  0.10999553 -0.91716299  0.80162411  0.1203839\n",
      " -0.92128041  0.79532828  0.1307591  -0.92529707  0.78894546  0.14112001] \n",
      "\n",
      "[ 0.40808206  0.58941244 -0.99393208  0.39851231  0.59782839 -0.99272741\n",
      "  0.38889897  0.60617896 -0.99141417  0.37924309  0.61446323 -0.9899925 ] \n",
      "\n"
     ]
    }
   ],
   "source": [
    "array7 = np.linspace (-20 , 3 , 12)\n",
    "print(array7 , '\\n')\n",
    "print(array7 +2 , '\\n')\n",
    "print(array7 -1 , '\\n')\n",
    "print(array7 *3 , '\\n')\n",
    "print(array7 /2 , '\\n')\n",
    "print(array7 **4 , '\\n')\n",
    "print((array7 +2)*5 , '\\n')\n",
    "print(np.sin(array7) , '\\n')\n",
    "print(np.cos(array7) , '\\n')"
   ]
  },
  {
   "cell_type": "code",
   "execution_count": 7,
   "metadata": {},
   "outputs": [
    {
     "name": "stdout",
     "output_type": "stream",
     "text": [
      "[ 60  80 100] \n",
      "\n",
      "[40 40 40] \n",
      "\n",
      "[-40 -40 -40] \n",
      "\n",
      "[ 500 1200 2100] \n",
      "\n",
      "[5.         3.         2.33333333] \n",
      "\n"
     ]
    }
   ],
   "source": [
    "array8 = np.array ([10 ,20 ,30])\n",
    "array9 = np.array ([50 ,60 ,70])\n",
    "result1 = array8+array9\n",
    "print(result1 , '\\n')\n",
    "print(array9-array8 , '\\n')\n",
    "print(array8-array9 , '\\n')\n",
    "print(array8*array9 , '\\n')\n",
    "print(array9/array8 , '\\n')\n"
   ]
  },
  {
   "cell_type": "code",
   "execution_count": 8,
   "metadata": {},
   "outputs": [
    {
     "name": "stdout",
     "output_type": "stream",
     "text": [
      "[[10 20 30]\n",
      " [50 60 70]] \n",
      "\n",
      "[[111 222 333]\n",
      " [111 222 333]] \n",
      "\n"
     ]
    }
   ],
   "source": [
    "array10 = np.array ([[10 ,20 ,30],[50 ,60 ,70]])\n",
    "print(array10 , '\\n')\n",
    "array11 = np.array ([[111 ,222 ,333],[111 ,222 ,333]])\n",
    "print(array11 , '\\n')"
   ]
  },
  {
   "cell_type": "code",
   "execution_count": 9,
   "metadata": {},
   "outputs": [
    {
     "name": "stdout",
     "output_type": "stream",
     "text": [
      "[[[1. 0. 0.]\n",
      "  [0. 1. 0.]\n",
      "  [0. 0. 1.]]] \n",
      "\n"
     ]
    }
   ],
   "source": [
    "array12 = np.array ([np.eye(3)])\n",
    "print(array12 , '\\n')\n"
   ]
  },
  {
   "cell_type": "code",
   "execution_count": 22,
   "metadata": {},
   "outputs": [
    {
     "name": "stdout",
     "output_type": "stream",
     "text": [
      "[0 1 2 3 4 5 6 7] \n",
      "\n",
      "[[0 1 2 3]\n",
      " [4 5 6 7]] \n",
      "\n"
     ]
    },
    {
     "ename": "TypeError",
     "evalue": "order not understood",
     "output_type": "error",
     "traceback": [
      "\u001b[1;31m---------------------------------------------------------------------------\u001b[0m",
      "\u001b[1;31mTypeError\u001b[0m                                 Traceback (most recent call last)",
      "\u001b[1;32mC:\\Anaconda\\lib\\site-packages\\numpy\\core\\fromnumeric.py\u001b[0m in \u001b[0;36m_wrapfunc\u001b[1;34m(obj, method, *args, **kwds)\u001b[0m\n\u001b[0;32m     51\u001b[0m     \u001b[1;32mtry\u001b[0m\u001b[1;33m:\u001b[0m\u001b[1;33m\u001b[0m\u001b[0m\n\u001b[1;32m---> 52\u001b[1;33m         \u001b[1;32mreturn\u001b[0m \u001b[0mgetattr\u001b[0m\u001b[1;33m(\u001b[0m\u001b[0mobj\u001b[0m\u001b[1;33m,\u001b[0m \u001b[0mmethod\u001b[0m\u001b[1;33m)\u001b[0m\u001b[1;33m(\u001b[0m\u001b[1;33m*\u001b[0m\u001b[0margs\u001b[0m\u001b[1;33m,\u001b[0m \u001b[1;33m**\u001b[0m\u001b[0mkwds\u001b[0m\u001b[1;33m)\u001b[0m\u001b[1;33m\u001b[0m\u001b[0m\n\u001b[0m\u001b[0;32m     53\u001b[0m \u001b[1;33m\u001b[0m\u001b[0m\n",
      "\u001b[1;31mTypeError\u001b[0m: order not understood",
      "\nDuring handling of the above exception, another exception occurred:\n",
      "\u001b[1;31mTypeError\u001b[0m                                 Traceback (most recent call last)",
      "\u001b[1;32m<ipython-input-22-a0b078003df5>\u001b[0m in \u001b[0;36m<module>\u001b[1;34m()\u001b[0m\n\u001b[0;32m      3\u001b[0m \u001b[0marray14\u001b[0m \u001b[1;33m=\u001b[0m \u001b[0mnp\u001b[0m\u001b[1;33m.\u001b[0m\u001b[0mreshape\u001b[0m\u001b[1;33m(\u001b[0m\u001b[0marray13\u001b[0m \u001b[1;33m,\u001b[0m\u001b[1;33m(\u001b[0m\u001b[1;36m2\u001b[0m \u001b[1;33m,\u001b[0m\u001b[1;36m4\u001b[0m\u001b[1;33m)\u001b[0m\u001b[1;33m)\u001b[0m\u001b[1;33m\u001b[0m\u001b[0m\n\u001b[0;32m      4\u001b[0m \u001b[0mprint\u001b[0m\u001b[1;33m(\u001b[0m\u001b[0marray14\u001b[0m \u001b[1;33m,\u001b[0m\u001b[1;34m'\\n'\u001b[0m\u001b[1;33m)\u001b[0m\u001b[1;33m\u001b[0m\u001b[0m\n\u001b[1;32m----> 5\u001b[1;33m \u001b[0mprint\u001b[0m\u001b[1;33m(\u001b[0m\u001b[0mnp\u001b[0m\u001b[1;33m.\u001b[0m\u001b[0mreshape\u001b[0m\u001b[1;33m(\u001b[0m\u001b[0marray13\u001b[0m \u001b[1;33m,\u001b[0m\u001b[1;33m(\u001b[0m\u001b[1;36m4\u001b[0m \u001b[1;33m,\u001b[0m\u001b[1;36m2\u001b[0m\u001b[1;33m)\u001b[0m \u001b[1;33m,\u001b[0m\u001b[1;34m'\\n'\u001b[0m\u001b[1;33m)\u001b[0m\u001b[1;33m)\u001b[0m\u001b[1;33m\u001b[0m\u001b[0m\n\u001b[0m\u001b[0;32m      6\u001b[0m \u001b[0mprint\u001b[0m\u001b[1;33m(\u001b[0m\u001b[0mnp\u001b[0m\u001b[1;33m.\u001b[0m\u001b[0mreshape\u001b[0m\u001b[1;33m(\u001b[0m\u001b[0mnp\u001b[0m\u001b[1;33m.\u001b[0m\u001b[0marange\u001b[0m\u001b[1;33m(\u001b[0m\u001b[1;36m8\u001b[0m\u001b[1;33m)\u001b[0m \u001b[1;33m,\u001b[0m\u001b[1;33m(\u001b[0m\u001b[1;36m4\u001b[0m \u001b[1;33m,\u001b[0m\u001b[1;36m2\u001b[0m\u001b[1;33m)\u001b[0m\u001b[1;33m)\u001b[0m \u001b[1;33m,\u001b[0m\u001b[1;34m'\\n'\u001b[0m\u001b[1;33m)\u001b[0m\u001b[1;33m\u001b[0m\u001b[0m\n\u001b[0;32m      7\u001b[0m \u001b[0mprint\u001b[0m\u001b[1;33m(\u001b[0m\u001b[0mnp\u001b[0m\u001b[1;33m.\u001b[0m\u001b[0mreshape\u001b[0m\u001b[1;33m(\u001b[0m\u001b[0marray13\u001b[0m \u001b[1;33m,\u001b[0m\u001b[1;33m(\u001b[0m\u001b[1;36m2\u001b[0m \u001b[1;33m,\u001b[0m\u001b[1;36m5\u001b[0m\u001b[1;33m)\u001b[0m\u001b[1;33m)\u001b[0m \u001b[1;33m,\u001b[0m\u001b[1;34m'\\n'\u001b[0m\u001b[1;33m)\u001b[0m\u001b[1;33m\u001b[0m\u001b[0m\n",
      "\u001b[1;32mC:\\Anaconda\\lib\\site-packages\\numpy\\core\\fromnumeric.py\u001b[0m in \u001b[0;36mreshape\u001b[1;34m(a, newshape, order)\u001b[0m\n\u001b[0;32m    255\u001b[0m            [5, 6]])\n\u001b[0;32m    256\u001b[0m     \"\"\"\n\u001b[1;32m--> 257\u001b[1;33m     \u001b[1;32mreturn\u001b[0m \u001b[0m_wrapfunc\u001b[0m\u001b[1;33m(\u001b[0m\u001b[0ma\u001b[0m\u001b[1;33m,\u001b[0m \u001b[1;34m'reshape'\u001b[0m\u001b[1;33m,\u001b[0m \u001b[0mnewshape\u001b[0m\u001b[1;33m,\u001b[0m \u001b[0morder\u001b[0m\u001b[1;33m=\u001b[0m\u001b[0morder\u001b[0m\u001b[1;33m)\u001b[0m\u001b[1;33m\u001b[0m\u001b[0m\n\u001b[0m\u001b[0;32m    258\u001b[0m \u001b[1;33m\u001b[0m\u001b[0m\n\u001b[0;32m    259\u001b[0m \u001b[1;33m\u001b[0m\u001b[0m\n",
      "\u001b[1;32mC:\\Anaconda\\lib\\site-packages\\numpy\\core\\fromnumeric.py\u001b[0m in \u001b[0;36m_wrapfunc\u001b[1;34m(obj, method, *args, **kwds)\u001b[0m\n\u001b[0;32m     60\u001b[0m     \u001b[1;31m# a downstream library like 'pandas'.\u001b[0m\u001b[1;33m\u001b[0m\u001b[1;33m\u001b[0m\u001b[0m\n\u001b[0;32m     61\u001b[0m     \u001b[1;32mexcept\u001b[0m \u001b[1;33m(\u001b[0m\u001b[0mAttributeError\u001b[0m\u001b[1;33m,\u001b[0m \u001b[0mTypeError\u001b[0m\u001b[1;33m)\u001b[0m\u001b[1;33m:\u001b[0m\u001b[1;33m\u001b[0m\u001b[0m\n\u001b[1;32m---> 62\u001b[1;33m         \u001b[1;32mreturn\u001b[0m \u001b[0m_wrapit\u001b[0m\u001b[1;33m(\u001b[0m\u001b[0mobj\u001b[0m\u001b[1;33m,\u001b[0m \u001b[0mmethod\u001b[0m\u001b[1;33m,\u001b[0m \u001b[1;33m*\u001b[0m\u001b[0margs\u001b[0m\u001b[1;33m,\u001b[0m \u001b[1;33m**\u001b[0m\u001b[0mkwds\u001b[0m\u001b[1;33m)\u001b[0m\u001b[1;33m\u001b[0m\u001b[0m\n\u001b[0m\u001b[0;32m     63\u001b[0m \u001b[1;33m\u001b[0m\u001b[0m\n\u001b[0;32m     64\u001b[0m \u001b[1;33m\u001b[0m\u001b[0m\n",
      "\u001b[1;32mC:\\Anaconda\\lib\\site-packages\\numpy\\core\\fromnumeric.py\u001b[0m in \u001b[0;36m_wrapit\u001b[1;34m(obj, method, *args, **kwds)\u001b[0m\n\u001b[0;32m     40\u001b[0m     \u001b[1;32mexcept\u001b[0m \u001b[0mAttributeError\u001b[0m\u001b[1;33m:\u001b[0m\u001b[1;33m\u001b[0m\u001b[0m\n\u001b[0;32m     41\u001b[0m         \u001b[0mwrap\u001b[0m \u001b[1;33m=\u001b[0m \u001b[1;32mNone\u001b[0m\u001b[1;33m\u001b[0m\u001b[0m\n\u001b[1;32m---> 42\u001b[1;33m     \u001b[0mresult\u001b[0m \u001b[1;33m=\u001b[0m \u001b[0mgetattr\u001b[0m\u001b[1;33m(\u001b[0m\u001b[0masarray\u001b[0m\u001b[1;33m(\u001b[0m\u001b[0mobj\u001b[0m\u001b[1;33m)\u001b[0m\u001b[1;33m,\u001b[0m \u001b[0mmethod\u001b[0m\u001b[1;33m)\u001b[0m\u001b[1;33m(\u001b[0m\u001b[1;33m*\u001b[0m\u001b[0margs\u001b[0m\u001b[1;33m,\u001b[0m \u001b[1;33m**\u001b[0m\u001b[0mkwds\u001b[0m\u001b[1;33m)\u001b[0m\u001b[1;33m\u001b[0m\u001b[0m\n\u001b[0m\u001b[0;32m     43\u001b[0m     \u001b[1;32mif\u001b[0m \u001b[0mwrap\u001b[0m\u001b[1;33m:\u001b[0m\u001b[1;33m\u001b[0m\u001b[0m\n\u001b[0;32m     44\u001b[0m         \u001b[1;32mif\u001b[0m \u001b[1;32mnot\u001b[0m \u001b[0misinstance\u001b[0m\u001b[1;33m(\u001b[0m\u001b[0mresult\u001b[0m\u001b[1;33m,\u001b[0m \u001b[0mmu\u001b[0m\u001b[1;33m.\u001b[0m\u001b[0mndarray\u001b[0m\u001b[1;33m)\u001b[0m\u001b[1;33m:\u001b[0m\u001b[1;33m\u001b[0m\u001b[0m\n",
      "\u001b[1;31mTypeError\u001b[0m: order not understood"
     ]
    }
   ],
   "source": [
    "array13 = np.arange(8)\n",
    "print(array13 ,'\\n')\n",
    "array14 = np.reshape(array13 ,(2 ,4))\n",
    "print(array14 ,'\\n')\n",
    "print(np.reshape(array13 ,(4 ,2) ,'\\n'))\n",
    "print(np.reshape(np.arange(8) ,(4 ,2)) ,'\\n')\n",
    "print(np.reshape(array13 ,(2 ,5)) ,'\\n')"
   ]
  },
  {
   "cell_type": "code",
   "execution_count": 23,
   "metadata": {},
   "outputs": [
    {
     "name": "stdout",
     "output_type": "stream",
     "text": [
      "[[10 20 30]\n",
      " [15 30 40]] \n",
      "\n",
      "[[12 22 32]\n",
      " [17 32 42]] \n",
      "\n",
      "[[ 7 17 27]\n",
      " [12 27 37]] \n",
      "\n",
      "[[ 50 100 150]\n",
      " [ 75 150 200]] \n",
      "\n",
      "[[0.2        0.1        0.06666667]\n",
      " [0.13333333 0.06666667 0.05      ]] \n",
      "\n",
      "[[ 1000  8000 27000]\n",
      " [ 3375 27000 64000]] \n",
      "\n",
      "[[-0.83907153  0.40808206  0.15425145]\n",
      " [-0.75968791  0.15425145 -0.66693806]] \n",
      "\n"
     ]
    }
   ],
   "source": [
    "array15 = np.array ([[10 ,20 ,30],[15 ,30 ,40]])\n",
    "print(array15 , '\\n')\n",
    "print(array15+2 , '\\n')\n",
    "print(array15-3 , '\\n')\n",
    "print(array15*5 , '\\n')\n",
    "print(2/array15 , '\\n')\n",
    "print(array15**3 , '\\n')\n",
    "print(np.cos(array15) , '\\n')"
   ]
  },
  {
   "cell_type": "code",
   "execution_count": 24,
   "metadata": {},
   "outputs": [
    {
     "name": "stdout",
     "output_type": "stream",
     "text": [
      "[[10. 20. 30.]\n",
      " [15. 30. 40.]] \n",
      "\n",
      "[[-10. -20. -30.]\n",
      " [-15. -30. -40.]] \n",
      "\n"
     ]
    },
    {
     "data": {
      "text/plain": [
       "array([[ -100.,  -400.,  -900.],\n",
       "       [ -225.,  -900., -1600.]])"
      ]
     },
     "execution_count": 24,
     "metadata": {},
     "output_type": "execute_result"
    }
   ],
   "source": [
    "array16 = np.array ([[10. ,20. ,30.],[15. ,30. ,40.]])\n",
    "print(array16 , '\\n')\n",
    "array17 = np.array ([[-10. ,-20. ,-30.],[-15. ,-30. ,-40.]])\n",
    "print(array17 , '\\n')\n",
    "array16 * array17"
   ]
  },
  {
   "cell_type": "code",
   "execution_count": 27,
   "metadata": {},
   "outputs": [
    {
     "name": "stdout",
     "output_type": "stream",
     "text": [
      "[[0.6937925  0.7438618  0.36655186 0.00779701]\n",
      " [0.0459762  0.42514596 0.09885575 0.21779286]] \n",
      "\n",
      "[[0.99866405 0.1355933  0.6836632  0.93144697]\n",
      " [0.49865718 0.31587864 0.75094746 0.77479596]] \n",
      "\n"
     ]
    }
   ],
   "source": [
    "array18 = sc.rand(8)\n",
    "print(np.array(np.reshape((array18) ,(2 ,4))) ,'\\n')\n",
    "array19 = print(np.array(np.reshape((sc.rand(8)) ,(2 ,4))) ,'\\n')\n"
   ]
  },
  {
   "cell_type": "code",
   "execution_count": null,
   "metadata": {},
   "outputs": [],
   "source": []
  }
 ],
 "metadata": {
  "kernelspec": {
   "display_name": "Python 3",
   "language": "python",
   "name": "python3"
  },
  "language_info": {
   "codemirror_mode": {
    "name": "ipython",
    "version": 3
   },
   "file_extension": ".py",
   "mimetype": "text/x-python",
   "name": "python",
   "nbconvert_exporter": "python",
   "pygments_lexer": "ipython3",
   "version": "3.6.5"
  }
 },
 "nbformat": 4,
 "nbformat_minor": 2
}
